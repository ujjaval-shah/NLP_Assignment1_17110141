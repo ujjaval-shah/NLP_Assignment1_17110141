{
 "cells": [
  {
   "cell_type": "code",
   "execution_count": 15,
   "metadata": {},
   "outputs": [
    {
     "name": "stdout",
     "output_type": "stream",
     "text": [
      "\n",
      "Types: 30781\n",
      "Tokens: 291400\n",
      "TTR: 0.10563143445435827\n",
      "\n",
      "Curve Fitting Coefficients:\n",
      "15.42330033171634 0.6046576691856437\n"
     ]
    },
    {
     "data": {
      "image/png": "[encoded data removed]",
      "text/plain": [
       "<Figure size 432x288 with 1 Axes>"
      ]
     },
     "metadata": {
      "needs_background": "light"
     },
     "output_type": "display_data"
    }
   ],
   "source": [
    "# import enchant\n",
    "import csv\n",
    "import re\n",
    "import numpy as np\n",
    "from scipy.optimize import curve_fit\n",
    "import matplotlib.pyplot as plt\n",
    "\n",
    "# d = enchant.Dict(\"en_US\")\n",
    "\n",
    "with open('tweets-dataset.csv', 'r', encoding=\"utf-8\") as f:\n",
    "\treader = csv.reader(f)\n",
    "\tyour_list = list(reader)\n",
    "\n",
    "# print(your_list)\n",
    "\n",
    "newlist=[]\n",
    "line=\"\"\n",
    "\n",
    "for i in your_list:\n",
    "\tfor j in i:\n",
    "\t\tline = j\n",
    "\t\t# line = re.sub(r\"@\", \" \", line)\n",
    "\t\t# line = re.sub(r\"#\", \" \", line)\n",
    "\t\tline = re.sub(r\"@[^\\s]*\", \" \", line)\n",
    "\t\tline = re.sub(r\"#[^\\s]*\", \" \", line)\n",
    "\t\tline = re.sub(r\"http[^\\s]*\", \" \", line)\n",
    "\t\tline = re.sub(r\"[^A-Za-z][^A-Za-z]*\", \" \", line)\n",
    "\t\tnewlist+=[k.lower() for k in line.split()]\n",
    "\n",
    "dic={}\n",
    "\n",
    "for i in newlist:\n",
    "\tif i in dic.keys():\n",
    "\t\tdic[i]+=1\n",
    "\telse:\n",
    "\t\tdic[i]=1\n",
    "\n",
    "print()\n",
    "types = len(dic)\n",
    "print(\"Types: \"+str(types))\n",
    "token = len(newlist)\n",
    "print(\"Tokens: \"+str(token))\n",
    "print(\"TTR: \"+str(types/token))\n",
    "print()\n",
    "\n",
    "### Heap's law plot\n",
    "\n",
    "count = 0\n",
    "\n",
    "plot=[[],[]]\n",
    "voc=set()\n",
    "ending=0\n",
    "toks=0\n",
    "while(True):\n",
    "\tlinels=[]\n",
    "\tfor i in range(200):\n",
    "\t\ttry:\n",
    "\t\t\tline = your_list[count*200+i][0]\n",
    "\t\t\tline = re.sub(r\"@[^\\s]*\", \" \", line)\n",
    "\t\t\tline = re.sub(r\"#[^\\s]*\", \" \", line)\n",
    "\t\t\tline = re.sub(r\"http[^\\s]*\", \" \", line)\n",
    "\t\t\tline = re.sub(r\"[^A-Za-z][^A-Za-z]*\", \" \", line)\n",
    "\t\t\tlinels += [j.lower() for j in line.split()]\n",
    "\t\texcept:\n",
    "\t\t\tending=1\n",
    "\tcount=count+1\n",
    "\tfor j in linels:\n",
    "\t\ttoks=toks+1\n",
    "\t\tvoc.add(j)\n",
    "\tplot[0].append(toks)\n",
    "\tplot[1].append(len(voc))\n",
    "\tif ending:\n",
    "\t\tbreak\n",
    "\n",
    "def func(x,a,b):\n",
    "\treturn(a*(x**b))\n",
    "\n",
    "# print()\n",
    "# print(len(voc))\n",
    "# print()\n",
    "\n",
    "arrx = plot[0]\n",
    "arry = plot[1]\n",
    "# print(len(arrx),len(arry))\n",
    "param, param_cov=curve_fit(func, np.array(arrx), np.array(arry))\n",
    "print(\"Curve Fitting Coefficients:\")\n",
    "print(param[0],param[1])\n",
    "plt.scatter(arrx, arry)\n",
    "plt.title(\"Heap's law: (dictionary size -> size of courpus) graph:\")\n",
    "plt.xlabel(\"size of courpus\")\n",
    "plt.ylabel(\"dictionary size\")\n",
    "plt.show()\n",
    "\n",
    "\n",
    "# following code is useful for ZIPF's law\n",
    "# z=open(\"eng.txt\",\"w+\")\n",
    "# lst = sorted(dic.items(), key = lambda kv:(kv[1], kv[0]))\n",
    "# lst = lst[::-1]\n",
    "# z.write(\"Rank  Word  Freq\\n\")\n",
    "# for i in range(len(lst)):\n",
    "# \tif d.check(lst[i][0]):\n",
    "# \t\tz.write(str(i)+\" \"+lst[i][0]+\" \"+str(lst[i][1])+\"\\n\")\n",
    "# z.close()"
   ]
  },
  {
   "cell_type": "code",
   "execution_count": 14,
   "metadata": {},
   "outputs": [
    {
     "name": "stdout",
     "output_type": "stream",
     "text": [
      "Curve Fitting Constant Line:\n",
      "y=0.8140325621332218\n"
     ]
    },
    {
     "data": {
      "image/png": "[encoded data removed]",
      "text/plain": [
       "<Figure size 432x288 with 1 Axes>"
      ]
     },
     "metadata": {
      "needs_background": "light"
     },
     "output_type": "display_data"
    }
   ],
   "source": [
    "import numpy as np\n",
    "from scipy.optimize import curve_fit\n",
    "import matplotlib.pyplot as plt\n",
    "\n",
    "## following values are taken from eng.txt and https://dictionary.cambridge.org/dictionary/english/  E.G. 91 is rank of word \"time\" which has 15 meanings\n",
    "m=[15, 4, 11, 2, 2, 4, 2, 1, 1, 2, 2, 6, 1, 3, 2, 1, 1, 3, 3, 4]\n",
    "r=[91, 598, 1509, 2004, 2127, 2509, 3352, 4064, 4908, 5880, 6890, 7447, 7452, 7963, 9803, 9815, 13754, 15794, 18254, 30445]\n",
    "f=[385, 66, 23, 17, 16, 13, 9, 7, 6, 5, 4, 3, 3, 3, 2, 2, 1, 1, 1 ,1]\n",
    "\n",
    "\n",
    "arrx=[\"time\",\"god\",\"return\",\"drama\",\"conference\",\"leader\",\"request\",\"resign\",\"elimination\",\"assault\",\"currency\",\"smoke\",\"sky\",\"motion\",\"submit\",\"strategy\",\"yelling\",\"surprises\",\"process\",\"adopt\"]\n",
    "# arry=[m[i]*((len(arrx[i]))**(1/2)) for i in range(20)]\n",
    "\n",
    "arrm = m\n",
    "arry = [(m[i]*((len(arrx[i]))**(1/2))) for i in range(20)]\n",
    "\n",
    "def func(x,a):\n",
    "\treturn(a*((x)**(1/2)))\n",
    "\n",
    "param, param_cov=curve_fit(func, f, m)\n",
    "ideal=[param[0]*((i)**(1/2)) for i in range(0,400)]\n",
    "\n",
    "\n",
    "print(\"Curve Fitting Constant Line:\")\n",
    "print(\"a=\"+str(param[0]))\n",
    "\n",
    "X=[i for i in range(0,400)]\n",
    "\n",
    "plt.plot(X, ideal,color='green')\n",
    "plt.scatter(f,m)\n",
    "plt.xticks(rotation=30)\n",
    "plt.title(\"zipf's law: m->f\")\n",
    "plt.ylabel(\"m-meanings\")\n",
    "plt.xlabel(\"f-freq\")\n",
    "plt.subplots_adjust(bottom=0.20)\n",
    "plt.show()"
   ]
  },
  {
   "cell_type": "code",
   "execution_count": 16,
   "metadata": {},
   "outputs": [
    {
     "name": "stdout",
     "output_type": "stream",
     "text": [
      "\n",
      "Types: 30781\n",
      "Tokens: 291400\n",
      "TTR: 0.10563143445435827\n",
      "\n",
      "Curve Fitting Constant Line:\n",
      "y=7.300395798459071\n"
     ]
    },
    {
     "data": {
      "image/png": "[encoded data removed]",
      "text/plain": [
       "<Figure size 432x288 with 1 Axes>"
      ]
     },
     "metadata": {
      "needs_background": "light"
     },
     "output_type": "display_data"
    }
   ],
   "source": [
    "# import enchant\n",
    "import csv\n",
    "import re\n",
    "import numpy as np\n",
    "from scipy.optimize import curve_fit\n",
    "import matplotlib.pyplot as plt\n",
    "\n",
    "# d = enchant.Dict(\"en_US\")\n",
    "\n",
    "with open('tweets-dataset.csv', 'r', encoding=\"utf-8\") as f:\n",
    "\treader = csv.reader(f)\n",
    "\tyour_list = list(reader)\n",
    "\n",
    "# print(your_list)\n",
    "\n",
    "newlist=[]\n",
    "line=\"\"\n",
    "\n",
    "for i in your_list:\n",
    "\tfor j in i:\n",
    "\t\tline = j\n",
    "\t\t# line = re.sub(r\"@\", \" \", line)\n",
    "\t\t# line = re.sub(r\"#\", \" \", line)\n",
    "\t\tline = re.sub(r\"@[^\\s]*\", \" \", line)\n",
    "\t\tline = re.sub(r\"#[^\\s]*\", \" \", line)\n",
    "\t\tline = re.sub(r\"http[^\\s]*\", \" \", line)\n",
    "\t\tline = re.sub(r\"[^A-Za-z][^A-Za-z]*\", \" \", line)\n",
    "\t\tnewlist+=[k.lower() for k in line.split()]\n",
    "\n",
    "dic={}\n",
    "\n",
    "for i in newlist:\n",
    "\tif i in dic.keys():\n",
    "\t\tdic[i]+=1\n",
    "\telse:\n",
    "\t\tdic[i]=1\n",
    "\n",
    "print()\n",
    "types = len(dic)\n",
    "print(\"Types: \"+str(types))\n",
    "token = len(newlist)\n",
    "print(\"Tokens: \"+str(token))\n",
    "print(\"TTR: \"+str(types/token))\n",
    "print()\n",
    "\n",
    "f=[dic[i] for i in dic.keys()]\n",
    "l=[len(i) for i in dic.keys()]\n",
    "\n",
    "def func(x,a):\n",
    "\treturn(a/x)\n",
    "\n",
    "param, param_cov=curve_fit(func, f, l)\n",
    "print(\"Curve Fitting Constant Line:\")\n",
    "print(\"y=\"+str(param[0]))\n",
    "\n",
    "X=[(i/100) for i in range(10,800000)]\n",
    "Y=[(param[0]/i) for i in X]\n",
    "\n",
    "plt.scatter(f,l)\n",
    "plt.xticks(rotation=30)\n",
    "plt.plot(X, Y, color=\"green\")\n",
    "plt.title(\"zipf's law: l->f\")\n",
    "plt.ylabel(\"-l-lenght-\")\n",
    "plt.xlabel(\"-f-freq-\")\n",
    "plt.subplots_adjust(bottom=0.20)\n",
    "plt.show()"
   ]
  },
  {
   "cell_type": "code",
   "execution_count": null,
   "metadata": {},
   "outputs": [],
   "source": []
  },
  {
   "cell_type": "code",
   "execution_count": null,
   "metadata": {},
   "outputs": [],
   "source": []
  }
 ],
 "metadata": {
  "kernelspec": {
   "display_name": "Python 3",
   "language": "python",
   "name": "python3"
  },
  "language_info": {
   "codemirror_mode": {
    "name": "ipython",
    "version": 3
   },
   "file_extension": ".py",
   "mimetype": "text/x-python",
   "name": "python",
   "nbconvert_exporter": "python",
   "pygments_lexer": "ipython3",
   "version": "3.7.3"
  }
 },
 "nbformat": 4,
 "nbformat_minor": 2
}
